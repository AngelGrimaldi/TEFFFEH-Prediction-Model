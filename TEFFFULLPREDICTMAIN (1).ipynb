{
 "cells": [
  {
   "cell_type": "code",
   "execution_count": 1,
   "id": "4e866a7b-bda2-47f4-a494-83ff671d0fbe",
   "metadata": {
    "execution": {
     "iopub.execute_input": "2025-04-07T18:34:35.951285Z",
     "iopub.status.busy": "2025-04-07T18:34:35.950875Z",
     "iopub.status.idle": "2025-04-07T18:35:46.968332Z",
     "shell.execute_reply": "2025-04-07T18:35:46.967580Z",
     "shell.execute_reply.started": "2025-04-07T18:34:35.951269Z"
    }
   },
   "outputs": [
    {
     "name": "stderr",
     "output_type": "stream",
     "text": [
      "2025-04-07 11:34:36.542724: E external/local_xla/xla/stream_executor/cuda/cuda_fft.cc:467] Unable to register cuFFT factory: Attempting to register factory for plugin cuFFT when one has already been registered\n",
      "WARNING: All log messages before absl::InitializeLog() is called are written to STDERR\n",
      "E0000 00:00:1744050876.556798 2529878 cuda_dnn.cc:8579] Unable to register cuDNN factory: Attempting to register factory for plugin cuDNN when one has already been registered\n",
      "E0000 00:00:1744050876.560962 2529878 cuda_blas.cc:1407] Unable to register cuBLAS factory: Attempting to register factory for plugin cuBLAS when one has already been registered\n",
      "W0000 00:00:1744050876.574031 2529878 computation_placer.cc:177] computation placer already registered. Please check linkage and avoid linking the same target more than once.\n",
      "W0000 00:00:1744050876.574043 2529878 computation_placer.cc:177] computation placer already registered. Please check linkage and avoid linking the same target more than once.\n",
      "W0000 00:00:1744050876.574044 2529878 computation_placer.cc:177] computation placer already registered. Please check linkage and avoid linking the same target more than once.\n",
      "W0000 00:00:1744050876.574046 2529878 computation_placer.cc:177] computation placer already registered. Please check linkage and avoid linking the same target more than once.\n",
      "2025-04-07 11:34:36.578007: I tensorflow/core/platform/cpu_feature_guard.cc:210] This TensorFlow binary is optimized to use available CPU instructions in performance-critical operations.\n",
      "To enable the following instructions: AVX2 FMA, in other operations, rebuild TensorFlow with the appropriate compiler flags.\n",
      "2025-04-07 11:34:39.212235: E external/local_xla/xla/stream_executor/cuda/cuda_platform.cc:51] failed call to cuInit: INTERNAL: CUDA error: Failed call to cuInit: UNKNOWN ERROR (303)\n"
     ]
    },
    {
     "name": "stdout",
     "output_type": "stream",
     "text": [
      "\u001b[1m26089/26089\u001b[0m \u001b[32m━━━━━━━━━━━━━━━━━━━━\u001b[0m\u001b[37m\u001b[0m \u001b[1m10s\u001b[0m 392us/step\n",
      "Predictions saved to Full_Blind_with_predictions.csv\n"
     ]
    }
   ],
   "source": [
    "# Import necessary libraries\n",
    "import pandas as pd\n",
    "import numpy as np\n",
    "import tensorflow as tf\n",
    "from tensorflow.keras.models import load_model\n",
    "\n",
    "\n",
    "\n",
    "from tensorflow.keras.models import load_model\n",
    "ann = load_model(\"TEFFNetwork_new.keras\")\n",
    "\n",
    "import joblib\n",
    "sc = joblib.load(\"scaler.pkl\")\n",
    "\n",
    "import pandas as pd\n",
    "blind_sample = pd.read_csv(\"blind_full.csv\")  # Adjust the filename if needed\n",
    "\n",
    "\n",
    "# Compute the same color indices as in training\n",
    "blind_sample['uJ378'] = blind_sample.u_0 - blind_sample.J378_0\n",
    "blind_sample['uJ395'] = blind_sample.u_0 - blind_sample.J395_0\n",
    "blind_sample['uJ410'] = blind_sample.u_0 - blind_sample.J410_0\n",
    "blind_sample['uJ430'] = blind_sample.u_0 - blind_sample.J430_0\n",
    "blind_sample['ug'] = blind_sample.u_0 - blind_sample.g_0\n",
    "blind_sample['uJ515'] = blind_sample.u_0 - blind_sample.J515_0\n",
    "blind_sample['ur'] = blind_sample.u_0 - blind_sample.r_0\n",
    "blind_sample['uJ660'] = blind_sample.u_0 - blind_sample.J660_0\n",
    "blind_sample['uJ861'] = blind_sample.u_0 - blind_sample.J861_0\n",
    "blind_sample['uz'] = blind_sample.u_0 - blind_sample.z_0\n",
    "blind_sample['ui'] = blind_sample.u_0 - blind_sample.i_0\n",
    "\n",
    "blind_sample['J378J395'] = blind_sample.J378_0 - blind_sample.J395_0\n",
    "blind_sample['J378J410'] = blind_sample.J378_0 - blind_sample.J410_0\n",
    "blind_sample['J378J430'] = blind_sample.J378_0 - blind_sample.J430_0\n",
    "blind_sample['J378g'] = blind_sample.J378_0 - blind_sample.g_0\n",
    "blind_sample['J378J515'] = blind_sample.J378_0 - blind_sample.J515_0\n",
    "blind_sample['J378r'] = blind_sample.J378_0 - blind_sample.r_0\n",
    "blind_sample['J378J660'] = blind_sample.J378_0 - blind_sample.J660_0\n",
    "blind_sample['J378J861'] = blind_sample.J378_0 - blind_sample.J861_0\n",
    "blind_sample['J378z'] = blind_sample.J378_0 - blind_sample.z_0\n",
    "blind_sample['J378i'] = blind_sample.J378_0 - blind_sample.i_0\n",
    "\n",
    "blind_sample['J395J410'] = blind_sample.J395_0 - blind_sample.J410_0\n",
    "blind_sample['J395J430'] = blind_sample.J395_0 - blind_sample.J430_0\n",
    "blind_sample['J395g'] = blind_sample.J395_0 - blind_sample.g_0\n",
    "blind_sample['J395J515'] = blind_sample.J395_0 - blind_sample.J515_0\n",
    "blind_sample['J395r'] = blind_sample.J395_0 - blind_sample.r_0\n",
    "blind_sample['J395J660'] = blind_sample.J395_0 - blind_sample.J660_0\n",
    "blind_sample['J395J861'] = blind_sample.J395_0 - blind_sample.J861_0\n",
    "blind_sample['J395z'] = blind_sample.J395_0 - blind_sample.z_0\n",
    "blind_sample['J395i'] = blind_sample.J395_0 - blind_sample.i_0\n",
    "\n",
    "blind_sample['J410J430'] = blind_sample.J410_0 - blind_sample.J430_0\n",
    "blind_sample['J410g'] = blind_sample.J410_0 - blind_sample.g_0\n",
    "blind_sample['J410J515'] = blind_sample.J410_0 - blind_sample.J515_0\n",
    "blind_sample['J410r'] = blind_sample.J410_0 - blind_sample.r_0\n",
    "blind_sample['J410J660'] = blind_sample.J410_0 - blind_sample.J660_0\n",
    "blind_sample['J410J861'] = blind_sample.J410_0 - blind_sample.J861_0\n",
    "blind_sample['J410z'] = blind_sample.J410_0 - blind_sample.z_0\n",
    "blind_sample['J410i'] = blind_sample.J410_0 - blind_sample.i_0\n",
    "\n",
    "blind_sample['J430g'] = blind_sample.J430_0 - blind_sample.g_0\n",
    "blind_sample['J430J515'] = blind_sample.J430_0 - blind_sample.J515_0\n",
    "blind_sample['J430r'] = blind_sample.J430_0 - blind_sample.r_0\n",
    "blind_sample['J430J660'] = blind_sample.J430_0 - blind_sample.J660_0\n",
    "blind_sample['J430J861'] = blind_sample.J430_0 - blind_sample.J861_0\n",
    "blind_sample['J430z'] = blind_sample.J430_0 - blind_sample.z_0\n",
    "blind_sample['J430i'] = blind_sample.J430_0 - blind_sample.i_0\n",
    "\n",
    "blind_sample['gJ515'] = blind_sample.g_0 - blind_sample.J515_0\n",
    "blind_sample['gr'] = blind_sample.g_0 - blind_sample.r_0\n",
    "blind_sample['gJ660'] = blind_sample.g_0 - blind_sample.J660_0\n",
    "blind_sample['gJ861'] = blind_sample.g_0 - blind_sample.J861_0\n",
    "blind_sample['gz'] = blind_sample.g_0 - blind_sample.z_0\n",
    "blind_sample['gi'] = blind_sample.g_0 - blind_sample.i_0\n",
    "\n",
    "blind_sample['J515r'] = blind_sample.J515_0 - blind_sample.r_0\n",
    "blind_sample['J515J660'] = blind_sample.J515_0 - blind_sample.J660_0\n",
    "blind_sample['J515J861'] = blind_sample.J515_0 - blind_sample.J861_0\n",
    "blind_sample['J515z'] = blind_sample.J515_0 - blind_sample.z_0\n",
    "blind_sample['J515i'] = blind_sample.J515_0 - blind_sample.i_0\n",
    "\n",
    "blind_sample['rJ660'] = blind_sample.r_0 - blind_sample.J660_0\n",
    "blind_sample['rJ861'] = blind_sample.r_0 - blind_sample.J861_0\n",
    "blind_sample['rz'] = blind_sample.r_0 - blind_sample.z_0\n",
    "blind_sample['ri'] = blind_sample.r_0 - blind_sample.i_0\n",
    "\n",
    "blind_sample['J660J861'] = blind_sample.J660_0 - blind_sample.J861_0\n",
    "blind_sample['J660z'] = blind_sample.J660_0 - blind_sample.z_0\n",
    "blind_sample['J660i'] = blind_sample.J660_0 - blind_sample.i_0\n",
    "\n",
    "blind_sample['J861z'] = blind_sample.J861_0 - blind_sample.z_0\n",
    "blind_sample['J861i'] = blind_sample.J861_0 - blind_sample.i_0\n",
    "\n",
    "blind_sample['zi'] = blind_sample.z_0 - blind_sample.i_0\n",
    "# Compute all other color indices (use the same calculations as in your training step!)\n",
    "\n",
    "# Extract the same features used for training\n",
    "X_blind = blind_sample[['uJ378','uJ395','uJ410','uJ430','ug','uJ515','ur','uJ660','uJ861','uz','ui',\n",
    "                        'J378J395','J378J410','J378J430','J378g','J378J515','J378r','J378J660','J378J861','J378z','J378i',\n",
    "                        'J395J410','J395J430','J395g','J395J515','J395r','J395J660','J395J861','J395z','J395i',\n",
    "                        'J410J430','J410g','J410J515','J410r','J410J660','J410J861','J410z','J410i',\n",
    "                        'J430g','J430J515','J430r','J430J660','J430J861','J430z','J430i',\n",
    "                        'gJ515','gr','gJ660','gJ861','gz','gi',\n",
    "                        'J515r','J515J660','J515J861','J515z','J515i',\n",
    "                        'rJ660','rJ861','rz','ri',\n",
    "                        'J660J861','J660z','J660i',\n",
    "                        'J861z','J861i',\n",
    "                        'zi'\n",
    "                        # Include all other computed indices from training\n",
    "                       ]].values\n",
    "\n",
    "# Apply the same scaling\n",
    "X_blind = sc.transform(X_blind)\n",
    "\n",
    "# Predict teff values\n",
    "teff_predictions = ann.predict(X_blind)\n",
    "\n",
    "# Add predictions to the DataFrame\n",
    "blind_sample['Predicted_Teff'] = teff_predictions\n",
    "\n",
    "# Save results to a new CSV file\n",
    "blind_sample.to_csv(\"Full_Blind_with_predictions.csv\", index=False)\n",
    "\n",
    "print(\"Predictions saved to Full_Blind_with_predictions.csv\")\n"
   ]
  },
  {
   "cell_type": "code",
   "execution_count": 7,
   "id": "89589176-f1dc-4ddb-aa8f-3b1e4699c06f",
   "metadata": {
    "execution": {
     "iopub.execute_input": "2025-04-07T19:16:34.435574Z",
     "iopub.status.busy": "2025-04-07T19:16:34.435350Z",
     "iopub.status.idle": "2025-04-07T19:16:34.438595Z",
     "shell.execute_reply": "2025-04-07T19:16:34.438200Z",
     "shell.execute_reply.started": "2025-04-07T19:16:34.435560Z"
    }
   },
   "outputs": [],
   "source": [
    "import joblib\n",
    "sc = joblib.load(\"scaler.pkl\")\n"
   ]
  },
  {
   "cell_type": "code",
   "execution_count": 8,
   "id": "9bdb6348-9f15-4bd9-b5e4-e67586755057",
   "metadata": {
    "execution": {
     "iopub.execute_input": "2025-04-07T19:17:08.374993Z",
     "iopub.status.busy": "2025-04-07T19:17:08.374705Z",
     "iopub.status.idle": "2025-04-07T19:17:08.415646Z",
     "shell.execute_reply": "2025-04-07T19:17:08.415206Z",
     "shell.execute_reply.started": "2025-04-07T19:17:08.374973Z"
    }
   },
   "outputs": [],
   "source": [
    "from tensorflow.keras.models import load_model\n",
    "ann = load_model(\"TEFFNetwork_new.keras\")"
   ]
  },
  {
   "cell_type": "code",
   "execution_count": null,
   "id": "d69db7f2-4c6a-4472-b774-65a61922a0ac",
   "metadata": {},
   "outputs": [],
   "source": []
  }
 ],
 "metadata": {
  "kernelspec": {
   "display_name": "Python 3 (DL,Py3.10.13)",
   "language": "python",
   "name": "python3"
  },
  "language_info": {
   "codemirror_mode": {
    "name": "ipython",
    "version": 3
   },
   "file_extension": ".py",
   "mimetype": "text/x-python",
   "name": "python",
   "nbconvert_exporter": "python",
   "pygments_lexer": "ipython3",
   "version": "3.10.13"
  }
 },
 "nbformat": 4,
 "nbformat_minor": 5
}
